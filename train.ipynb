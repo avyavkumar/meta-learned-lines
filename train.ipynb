{
 "cells": [
  {
   "cell_type": "code",
   "execution_count": null,
   "id": "79b5482b",
   "metadata": {
    "scrolled": true
   },
   "outputs": [],
   "source": [
    "# from datasets import load_dataset\n",
    "# from training_datasets.GLUEDataset import GLUEDataset\n",
    "\n",
    "# cola = load_dataset('glue','cola')\n",
    "# # print(cola)\n",
    "# # sst2 = load_dataset('glue','sst2')\n",
    "# # print(sst2)\n",
    "# mrpc = load_dataset('glue', 'mrpc')\n",
    "# # print(mrpc)\n",
    "# pt_cola = GLUEDataset([cola, mrpc], 'train')"
   ]
  },
  {
   "cell_type": "code",
   "execution_count": null,
   "id": "eb68d492",
   "metadata": {},
   "outputs": [],
   "source": [
    "from training_datasets.GLUEMetaDataset import GLUEMetaDataset\n",
    "from samplers.FewShotEpisodeSampler import FewShotEpisodeSampler\n",
    "from samplers.FewShotEpisodeBatchSampler import FewShotEpisodeBatchSampler\n",
    "import torch.utils.data as data\n",
    "\n",
    "meta_ds = GLUEMetaDataset(k=4,numTasks=1000)"
   ]
  },
  {
   "cell_type": "code",
   "execution_count": null,
   "id": "5d24829a",
   "metadata": {
    "scrolled": false
   },
   "outputs": [],
   "source": [
    "train_protomaml_sampler = FewShotEpisodeBatchSampler(meta_ds, kShot=4, batchSize=4)\n",
    "\n",
    "train_protomaml_loader = data.DataLoader(\n",
    "    meta_ds, batch_sampler=train_protomaml_sampler, collate_fn=train_protomaml_sampler.getCollateFunction(), num_workers=4)\n",
    "\n",
    "# for i in range(1):\n",
    "#     batch = next(iter(train_protomaml_loader))\n",
    "#     for episode_i in range(len(batch[0])):\n",
    "#         data, labels = batch[0][episode_i], batch[1][episode_i]\n",
    "#         supportSet, supportLabels = data[0:len(data)//2], labels[0:len(data)//2] \n",
    "#         print(supportLabels)"
   ]
  },
  {
   "cell_type": "code",
   "execution_count": null,
   "id": "b300d2f6",
   "metadata": {
    "scrolled": false
   },
   "outputs": [],
   "source": [
    "# episodes = []\n",
    "# for i in range(1):\n",
    "#     episodes.append(gm_ds.getTask())\n",
    "# for i in range(len(episodes)):\n",
    "#     classes = len(set(episodes[i][1].tolist()))\n",
    "#     # print(classes)\n",
    "#     print(episodes[i][0], episodes[i][1], \"\\n\")"
   ]
  },
  {
   "cell_type": "code",
   "execution_count": null,
   "id": "0ec3922a",
   "metadata": {
    "scrolled": false
   },
   "outputs": [],
   "source": [
    "# from training.models.ProtoFOMAML import ProtoFOMAML\n",
    "\n",
    "# pfomaml = ProtoFOMAML(outerLR=5e-4, innerLR=1e-3, outputLR=1e-2, steps=5, batchSize=16, warmupSteps=0)\n",
    "# pfomaml.training_step(next(iter(train_protomaml_loader)), 0)"
   ]
  },
  {
   "cell_type": "code",
   "execution_count": 4,
   "id": "3670cc53",
   "metadata": {
    "scrolled": false
   },
   "outputs": [
    {
     "name": "stdout",
     "output_type": "stream",
     "text": [
      "[1, 0, 0, 1, 1, 0, 0, 1, 0, 1, 1, 0, 0, 1, 1, 0]\n",
      "[3, 4, 2, 4, 3, 2, 3, 4, 2, 3, 2, 4, 2, 4, 4, 2, 3, 3, 4, 3, 2, 3, 4, 2]\n",
      "[6, 7, 5, 5, 6, 6, 5, 7, 5, 7, 7, 6, 6, 7, 6, 7, 6, 5, 7, 5, 5, 6, 5, 7]\n",
      "[10, 10, 9, 8, 9, 10, 9, 8, 8, 8, 9, 10, 10, 8, 10, 9, 10, 9, 9, 9, 8, 10, 8, 8]\n",
      "[13, 11, 12, 11, 12, 13, 13, 11, 13, 12, 11, 12, 12, 11, 12, 13, 11, 12, 13, 13, 11, 12, 11, 13]\n",
      "[14, 14, 15, 14, 15, 15, 14, 15, 14, 15, 15, 14, 14, 14, 15, 15]\n",
      "[16, 17, 17, 17, 16, 17, 16, 16, 16, 17, 17, 17, 16, 16, 16, 17]\n",
      "[19, 18, 19, 18, 18, 19, 19, 18, 19, 18, 18, 19, 19, 19, 18, 18]\n",
      "[1, 0, 0, 1, 0, 1, 0, 1, 0, 0, 0, 0, 1, 1, 1, 1]\n",
      "[4, 4, 2, 2, 3, 2, 3, 2, 3, 3, 4, 4, 2, 4, 3, 2, 4, 2, 3, 3, 2, 4, 4, 3]\n",
      "[5, 6, 7, 5, 7, 5, 7, 6, 7, 5, 6, 6, 6, 5, 5, 7, 7, 5, 6, 6, 7, 6, 5, 7]\n",
      "[10, 8, 8, 9, 9, 9, 10, 8, 9, 8, 10, 10, 9, 10, 10, 8, 8, 10, 9, 8, 10, 9, 8, 9]\n",
      "[12, 13, 13, 11, 11, 12, 13, 11, 12, 11, 13, 12, 13, 12, 11, 12, 13, 13, 11, 12, 11, 13, 12, 11]\n",
      "[14, 15, 14, 14, 15, 14, 15, 15, 15, 14, 15, 14, 15, 14, 14, 15]\n",
      "[16, 16, 16, 16, 17, 17, 17, 17, 17, 17, 16, 16, 16, 17, 16, 17]\n",
      "[18, 19, 18, 19, 18, 19, 18, 19, 18, 19, 19, 19, 18, 19, 18, 18]\n",
      "[0, 0, 1, 1, 1, 0, 0, 1, 1, 0, 1, 0, 1, 0, 1, 0]\n",
      "[3, 2, 2, 4, 2, 3, 3, 3, 4, 2, 4, 4, 3, 4, 3, 2, 3, 3, 2, 4, 2, 4, 4, 2]\n",
      "[6, 7, 5, 7, 5, 5, 7, 6, 6, 5, 6, 7, 5, 5, 6, 7, 6, 7, 6, 7, 7, 6, 5, 5]\n",
      "[8, 9, 10, 9, 10, 8, 8, 10, 8, 9, 10, 9, 9, 9, 10, 9, 8, 8, 10, 8, 10, 9, 10, 8]\n",
      "[12, 11, 11, 12, 12, 13, 11, 11, 13, 13, 12, 13, 11, 11, 12, 12, 13, 11, 13, 12, 11, 13, 12, 13]\n",
      "[14, 14, 15, 15, 15, 15, 14, 14, 15, 14, 14, 14, 15, 15, 14, 15]\n",
      "[17, 16, 16, 16, 17, 17, 17, 16, 17, 17, 16, 17, 16, 16, 17, 16]\n",
      "[19, 18, 18, 19, 18, 19, 19, 18, 18, 18, 19, 19, 18, 19, 18, 19]\n",
      "[0, 1, 1, 1, 0, 1, 0, 0, 0, 0, 1, 0, 1, 0, 1, 1]\n",
      "[4, 3, 2, 2, 4, 2, 4, 3, 4, 3, 2, 3, 4, 3, 4, 4, 4, 2, 2, 2, 3, 3, 2, 3]\n",
      "[7, 5, 5, 6, 5, 6, 6, 7, 5, 6, 7, 7, 7, 6, 5, 6, 7, 7, 6, 6, 5, 7, 5, 5]\n",
      "[9, 10, 10, 10, 8, 8, 8, 9, 10, 9, 9, 8, 10, 8, 10, 10, 9, 8, 8, 9, 9, 8, 9, 10]\n",
      "[12, 11, 13, 11, 11, 12, 13, 12, 13, 13, 12, 11, 13, 13, 11, 13, 13, 12, 12, 11, 11, 12, 11, 12]\n",
      "[15, 14, 15, 14, 15, 14, 15, 14, 14, 15, 15, 14, 15, 14, 14, 15]\n",
      "[17, 16, 17, 16, 17, 16, 16, 17, 16, 16, 17, 17, 17, 16, 17, 16]\n",
      "[18, 18, 19, 18, 18, 19, 19, 19, 18, 18, 19, 19, 18, 19, 19, 18]\n",
      "[0, 1, 0, 0, 1, 1, 0, 1, 0, 1, 1, 1, 0, 0, 1, 0]\n",
      "[2, 2, 3, 3, 4, 2, 3, 4, 2, 4, 4, 3, 4, 3, 2, 2, 4, 4, 2, 3, 3, 3, 2, 4]\n",
      "[7, 6, 7, 5, 5, 5, 6, 6, 7, 7, 5, 6, 6, 5, 7, 7, 5, 5, 7, 6, 6, 5, 6, 7]\n",
      "[8, 8, 9, 10, 9, 8, 10, 10, 9, 10, 9, 8, 10, 8, 9, 8, 10, 8, 9, 9, 9, 10, 8, 10]\n",
      "[12, 13, 11, 12, 11, 11, 12, 13, 13, 13, 12, 11, 11, 13, 12, 12, 12, 13, 13, 11, 12, 13, 11, 11]\n",
      "[15, 14, 15, 15, 14, 14, 14, 15, 14, 14, 15, 15, 14, 15, 15, 14]\n",
      "[17, 17, 16, 16, 17, 16, 16, 17, 16, 16, 16, 16, 17, 17, 17, 17]\n",
      "[18, 18, 19, 18, 19, 19, 18, 19, 18, 18, 19, 18, 19, 18, 19, 19]\n",
      "[1, 1, 0, 0, 1, 1, 0, 0, 1, 1, 1, 1, 0, 0, 0, 0]\n",
      "[4, 4, 2, 3, 2, 3, 2, 3, 2, 3, 4, 4, 2, 3, 3, 2, 3, 4, 4, 4, 4, 3, 2, 2]\n",
      "[6, 6, 7, 5, 5, 6, 6, 7, 5, 7, 5, 7, 5, 5, 7, 6, 7, 7, 5, 5, 6, 6, 6, 7]\n",
      "[9, 10, 10, 8, 9, 10, 10, 9, 8, 8, 9, 8, 8, 8, 9, 10, 10, 9, 9, 8, 9, 10, 8, 10]\n",
      "[13, 11, 13, 11, 11, 13, 12, 11, 13, 12, 12, 12, 12, 12, 11, 13, 11, 13, 12, 13, 11, 12, 13, 11]\n",
      "[14, 14, 15, 15, 14, 15, 15, 14, 15, 14, 14, 15, 14, 14, 15, 15]\n",
      "[16, 16, 17, 16, 17, 17, 17, 16, 16, 17, 17, 17, 16, 16, 16, 17]\n",
      "[19, 18, 19, 18, 18, 18, 19, 19, 18, 19, 19, 19, 18, 19, 18, 18]\n",
      "[1, 0, 1, 0, 0, 0, 1, 1, 1, 0, 1, 1, 0, 0, 1, 0]\n",
      "[4, 4, 2, 2, 2, 3, 2, 3, 3, 4, 4, 3, 3, 4, 3, 3, 4, 4, 4, 2, 2, 3, 2, 2]\n",
      "[6, 6, 7, 5, 5, 5, 7, 7, 7, 6, 5, 6, 5, 5, 6, 7, 6, 6, 5, 7, 7, 6, 5, 7]\n",
      "[10, 9, 8, 9, 10, 10, 10, 9, 8, 8, 8, 9, 9, 9, 9, 8, 10, 8, 8, 10, 10, 8, 10, 9]\n",
      "[12, 12, 13, 11, 11, 12, 11, 13, 13, 11, 12, 13, 13, 11, 11, 11, 12, 12, 13, 11, 13, 12, 12, 13]\n",
      "[15, 14, 15, 14, 14, 15, 14, 15, 15, 14, 14, 15, 15, 14, 14, 15]\n",
      "[17, 17, 16, 16, 17, 17, 16, 16, 16, 16, 17, 16, 17, 16, 17, 17]\n",
      "[19, 19, 19, 18, 18, 19, 18, 18, 19, 18, 18, 18, 19, 18, 19, 19]\n",
      "[1, 1, 1, 0, 0, 0, 0, 1, 0, 1, 0, 1, 0, 0, 1, 1]\n",
      "[4, 2, 3, 2, 4, 4, 3, 3, 2, 2, 3, 4, 4, 4, 3, 3, 2, 4, 3, 2, 3, 2, 4, 2]\n",
      "[7, 5, 7, 6, 6, 7, 6, 5, 7, 6, 5, 5, 5, 6, 7, 6, 5, 6, 7, 6, 5, 5, 7, 7]\n",
      "[9, 9, 10, 10, 10, 9, 8, 9, 8, 8, 10, 8, 10, 10, 9, 8, 10, 9, 10, 8, 9, 8, 9, 8]\n",
      "[12, 12, 12, 13, 11, 13, 11, 13, 13, 11, 12, 11, 11, 13, 11, 11, 12, 13, 13, 12, 13, 12, 11, 12]\n",
      "[14, 15, 14, 14, 14, 15, 15, 15, 15, 14, 15, 15, 14, 14, 15, 14]\n",
      "[16, 16, 17, 17, 17, 17, 16, 16, 17, 17, 17, 16, 16, 16, 16, 17]\n",
      "[18, 19, 18, 19, 19, 18, 19, 18, 18, 19, 18, 19, 19, 19, 18, 18]\n",
      "[0, 1, 0, 0, 1, 1, 1, 0, 0, 1, 0, 1, 0, 1, 0, 1]\n",
      "[2, 2, 4, 3, 4, 3, 4, 4, 2, 3, 2, 3, 3, 2, 2, 4, 4, 3, 4, 3, 2, 2, 4, 3]\n",
      "[5, 6, 5, 7, 6, 6, 6, 7, 5, 7, 7, 5, 6, 5, 5, 6, 6, 5, 7, 7, 7, 6, 7, 5]\n",
      "[8, 8, 10, 8, 9, 10, 9, 10, 10, 9, 9, 8, 9, 10, 8, 9, 10, 8, 9, 10, 8, 9, 10, 8]\n",
      "[13, 12, 13, 13, 11, 11, 12, 11, 12, 11, 12, 13, 11, 12, 13, 13, 12, 11, 12, 12, 11, 13, 11, 13]\n",
      "[14, 15, 14, 15, 15, 15, 14, 14, 15, 14, 14, 15, 14, 15, 14, 15]\n",
      "[17, 16, 16, 17, 17, 16, 16, 17, 17, 17, 16, 17, 16, 16, 17, 16]\n",
      "[18, 19, 19, 18, 19, 18, 19, 18, 19, 18, 18, 18, 19, 19, 18, 19]\n",
      "[0, 1, 0, 1, 0, 0, 1, 1, 1, 0, 0, 1, 1, 1, 0, 0]\n",
      "[4, 2, 3, 4, 4, 2, 3, 2, 3, 2, 3, 4, 4, 4, 2, 4, 3, 3, 2, 2, 2, 4, 3, 3]\n",
      "[7, 7, 5, 7, 5, 6, 6, 6, 7, 6, 5, 5, 6, 5, 7, 5, 6, 6, 7, 6, 5, 7, 5, 7]\n",
      "[10, 10, 10, 9, 9, 8, 9, 10, 9, 8, 8, 8, 9, 8, 9, 8, 8, 8, 9, 10, 10, 10, 10, 9]\n",
      "[13, 11, 13, 12, 12, 12, 11, 12, 13, 11, 13, 11, 12, 13, 11, 12, 13, 13, 12, 13, 11, 11, 12, 11]\n",
      "[14, 15, 14, 14, 15, 15, 14, 15, 14, 14, 14, 15, 15, 15, 14, 15]\n",
      "[16, 16, 16, 17, 17, 16, 17, 17, 17, 16, 17, 16, 17, 16, 16, 17]\n",
      "[18, 19, 19, 19, 18, 18, 19, 18, 19, 19, 19, 18, 18, 18, 18, 19]\n"
     ]
    }
   ],
   "source": [
    "from samplers.FewShotValidationEpisodeBatchSampler import FewShotValidationEpisodeBatchSampler\n",
    "from samplers.FewShotValidationEpisodeSampler import FewShotValidationEpisodeSampler\n",
    "from validation_datasets.ValidationDataset import ValidationDataset\n",
    "import torch.utils.data as data\n",
    "\n",
    "ds = ValidationDataset()\n",
    "\n",
    "val_protomaml_sampler = FewShotValidationEpisodeBatchSampler(ds, kShot=4)\n",
    "val_protomaml_loader = data.DataLoader(\n",
    "    ds, batch_sampler=val_protomaml_sampler, collate_fn=val_protomaml_sampler.getCollateFunction(), num_workers=1\n",
    ")\n",
    "\n",
    "for i in range(1):\n",
    "    batch = next(iter(val_protomaml_loader))\n",
    "    for episode_i in range(len(batch[0])):\n",
    "        data, labels = batch[0][episode_i], batch[1][episode_i]\n",
    "        supportSet, supportLabels = data[0:len(data)//2], labels[0:len(data)//2] \n",
    "#         print(supportLabels)\n",
    "        print(labels)"
   ]
  },
  {
   "cell_type": "code",
   "execution_count": 1,
   "id": "8ef372a5",
   "metadata": {
    "scrolled": false
   },
   "outputs": [
    {
     "name": "stderr",
     "output_type": "stream",
     "text": [
      "/home/aksingh/miniconda3/envs/meta-learned-lines/lib/python3.10/site-packages/tqdm/auto.py:21: TqdmWarning: IProgress not found. Please update jupyter and ipywidgets. See https://ipywidgets.readthedocs.io/en/stable/user_install.html\n",
      "  from .autonotebook import tqdm as notebook_tqdm\n"
     ]
    }
   ],
   "source": [
    "from training.models.ProtoFOMAML import ProtoFOMAML\n",
    "\n",
    "# pfomaml = ProtoFOMAML(outerLR=5e-4, innerLR=1e-3, outputLR=1e-2, steps=5, batchSize=16, warmupSteps=0)\n",
    "# pfomaml.validation_step(next(iter(val_protomaml_loader)), 0)"
   ]
  },
  {
   "cell_type": "code",
   "execution_count": null,
   "id": "8a0cb485",
   "metadata": {
    "scrolled": false
   },
   "outputs": [],
   "source": [
    "from training.trainer import train_model\n",
    "\n",
    "protomaml_model = train_model(\n",
    "    ProtoFOMAML,\n",
    "    train_loader=train_protomaml_loader,\n",
    "    val_loader=val_protomaml_loader,\n",
    "    outerLR=5e-4, innerLR=1e-3, outputLR=1e-2, steps=5, batchSize=4, warmupSteps=0\n",
    ")"
   ]
  },
  {
   "cell_type": "code",
   "execution_count": 3,
   "id": "f104cb02",
   "metadata": {},
   "outputs": [
    {
     "data": {
      "text/plain": [
       "'/home/aksingh/Documents/meta-learned-lines'"
      ]
     },
     "execution_count": 3,
     "metadata": {},
     "output_type": "execute_result"
    }
   ],
   "source": [
    "import os\n",
    "\n",
    "os.path.abspath(os.getcwd())"
   ]
  },
  {
   "cell_type": "code",
   "execution_count": null,
   "id": "2b3c5879",
   "metadata": {},
   "outputs": [],
   "source": []
  }
 ],
 "metadata": {
  "kernelspec": {
   "display_name": "Python 3 (ipykernel)",
   "language": "python",
   "name": "python3"
  },
  "language_info": {
   "codemirror_mode": {
    "name": "ipython",
    "version": 3
   },
   "file_extension": ".py",
   "mimetype": "text/x-python",
   "name": "python",
   "nbconvert_exporter": "python",
   "pygments_lexer": "ipython3",
   "version": "3.10.11"
  }
 },
 "nbformat": 4,
 "nbformat_minor": 5
}
