{
 "cells": [
  {
   "cell_type": "code",
   "execution_count": null,
   "id": "79b5482b",
   "metadata": {
    "scrolled": true
   },
   "outputs": [],
   "source": [
    "# from datasets import load_dataset\n",
    "# from training_datasets.GLUEDataset import GLUEDataset\n",
    "\n",
    "# cola = load_dataset('glue','cola')\n",
    "# # print(cola)\n",
    "# # sst2 = load_dataset('glue','sst2')\n",
    "# # print(sst2)\n",
    "# mrpc = load_dataset('glue', 'mrpc')\n",
    "# # print(mrpc)\n",
    "# pt_cola = GLUEDataset([cola, mrpc], 'train')"
   ]
  },
  {
   "cell_type": "code",
   "execution_count": 7,
   "id": "eb68d492",
   "metadata": {},
   "outputs": [
    {
     "name": "stderr",
     "output_type": "stream",
     "text": [
      "Found cached dataset glue (/home/aksingh/.cache/huggingface/datasets/glue/cola/1.0.0/dacbe3125aa31d7f70367a07a8a9e72a5a0bfeb5fc42e75c9db75b96da6053ad)\n",
      "100%|████████████████████████████████████████████████████████████████████████████████████| 3/3 [00:00<00:00, 1012.46it/s]\n",
      "Found cached dataset glue (/home/aksingh/.cache/huggingface/datasets/glue/mnli/1.0.0/dacbe3125aa31d7f70367a07a8a9e72a5a0bfeb5fc42e75c9db75b96da6053ad)\n",
      "100%|█████████████████████████████████████████████████████████████████████████████████████| 5/5 [00:00<00:00, 157.35it/s]\n",
      "Found cached dataset glue (/home/aksingh/.cache/huggingface/datasets/glue/mrpc/1.0.0/dacbe3125aa31d7f70367a07a8a9e72a5a0bfeb5fc42e75c9db75b96da6053ad)\n",
      "100%|█████████████████████████████████████████████████████████████████████████████████████| 3/3 [00:00<00:00, 934.84it/s]\n",
      "Found cached dataset glue (/home/aksingh/.cache/huggingface/datasets/glue/qnli/1.0.0/dacbe3125aa31d7f70367a07a8a9e72a5a0bfeb5fc42e75c9db75b96da6053ad)\n",
      "100%|█████████████████████████████████████████████████████████████████████████████████████| 3/3 [00:00<00:00, 353.45it/s]\n",
      "Found cached dataset glue (/home/aksingh/.cache/huggingface/datasets/glue/qqp/1.0.0/dacbe3125aa31d7f70367a07a8a9e72a5a0bfeb5fc42e75c9db75b96da6053ad)\n",
      "100%|█████████████████████████████████████████████████████████████████████████████████████| 3/3 [00:00<00:00, 260.89it/s]\n",
      "Found cached dataset glue (/home/aksingh/.cache/huggingface/datasets/glue/rte/1.0.0/dacbe3125aa31d7f70367a07a8a9e72a5a0bfeb5fc42e75c9db75b96da6053ad)\n",
      "100%|████████████████████████████████████████████████████████████████████████████████████| 3/3 [00:00<00:00, 1330.12it/s]\n",
      "Found cached dataset glue (/home/aksingh/.cache/huggingface/datasets/glue/sst2/1.0.0/dacbe3125aa31d7f70367a07a8a9e72a5a0bfeb5fc42e75c9db75b96da6053ad)\n",
      "100%|█████████████████████████████████████████████████████████████████████████████████████| 3/3 [00:00<00:00, 676.28it/s]\n"
     ]
    }
   ],
   "source": [
    "from training_datasets.GLUEMetaDataset import GLUEMetaDataset\n",
    "from samplers.FewShotEpisodeSampler import FewShotEpisodeSampler\n",
    "from samplers.FewShotEpisodeBatchSampler import FewShotEpisodeBatchSampler\n",
    "import torch.utils.data as data\n",
    "\n",
    "meta_ds = GLUEMetaDataset(k=4,numTasks=1000)"
   ]
  },
  {
   "cell_type": "code",
   "execution_count": 8,
   "id": "5d24829a",
   "metadata": {
    "scrolled": false
   },
   "outputs": [],
   "source": [
    "train_protomaml_sampler = FewShotEpisodeBatchSampler(meta_ds, kShot=4, batchSize=4)\n",
    "\n",
    "train_protomaml_loader = data.DataLoader(\n",
    "    meta_ds, batch_sampler=train_protomaml_sampler, collate_fn=train_protomaml_sampler.getCollateFunction(), num_workers=4)\n",
    "\n",
    "# for i in range(1):\n",
    "#     batch = next(iter(train_protomaml_loader))\n",
    "#     for episode_i in range(len(batch[0])):\n",
    "#         data, labels = batch[0][episode_i], batch[1][episode_i]\n",
    "#         supportSet, supportLabels = data[0:len(data)//2], labels[0:len(data)//2] \n",
    "#         print(supportLabels)"
   ]
  },
  {
   "cell_type": "code",
   "execution_count": 9,
   "id": "b300d2f6",
   "metadata": {
    "scrolled": false
   },
   "outputs": [],
   "source": [
    "# episodes = []\n",
    "# for i in range(1):\n",
    "#     episodes.append(gm_ds.getTask())\n",
    "# for i in range(len(episodes)):\n",
    "#     classes = len(set(episodes[i][1].tolist()))\n",
    "#     # print(classes)\n",
    "#     print(episodes[i][0], episodes[i][1], \"\\n\")"
   ]
  },
  {
   "cell_type": "code",
   "execution_count": 10,
   "id": "0ec3922a",
   "metadata": {
    "scrolled": false
   },
   "outputs": [],
   "source": [
    "# from training.models.ProtoFOMAML import ProtoFOMAML\n",
    "\n",
    "# pfomaml = ProtoFOMAML(outerLR=5e-4, innerLR=1e-3, outputLR=1e-2, steps=5, batchSize=16, warmupSteps=0)\n",
    "# pfomaml.training_step(next(iter(train_protomaml_loader)), 0)"
   ]
  },
  {
   "cell_type": "code",
   "execution_count": 11,
   "id": "3670cc53",
   "metadata": {
    "scrolled": false
   },
   "outputs": [
    {
     "name": "stdout",
     "output_type": "stream",
     "text": [
      "[0, 0, 1, 1, 0, 1, 0, 1, 0, 1, 1, 0, 0, 1, 0, 1]\n",
      "[3, 2, 4, 4, 2, 3, 3, 4, 2, 4, 3, 2, 3, 2, 4, 4, 2, 4, 2, 3, 3, 4, 2, 3]\n",
      "[6, 7, 5, 6, 5, 5, 6, 6, 5, 7, 7, 7, 7, 6, 5, 7, 7, 7, 6, 5, 6, 5, 6, 5]\n",
      "[10, 10, 9, 9, 8, 8, 9, 8, 10, 8, 9, 10, 9, 9, 8, 10, 10, 9, 10, 8, 10, 9, 8, 8]\n",
      "[11, 13, 12, 13, 11, 11, 12, 11, 12, 13, 12, 13, 13, 11, 12, 12, 11, 13, 12, 13, 12, 11, 13, 11]\n",
      "[15, 15, 14, 14, 14, 14, 15, 15, 15, 14, 15, 14, 14, 15, 15, 14]\n",
      "[17, 17, 16, 16, 17, 17, 16, 16, 17, 17, 17, 16, 17, 16, 16, 16]\n",
      "[19, 19, 18, 19, 18, 18, 19, 18, 18, 18, 19, 19, 18, 18, 19, 19]\n",
      "[1, 0, 1, 1, 0, 0, 1, 0, 1, 1, 1, 1, 0, 0, 0, 0]\n",
      "[2, 3, 2, 3, 4, 2, 4, 3, 4, 4, 2, 3, 4, 2, 2, 4, 3, 3, 3, 4, 2, 2, 4, 3]\n",
      "[6, 5, 5, 7, 7, 7, 6, 7, 6, 5, 5, 6, 7, 6, 6, 6, 7, 5, 6, 7, 5, 5, 5, 7]\n",
      "[8, 8, 9, 8, 10, 9, 10, 10, 9, 10, 9, 8, 9, 9, 9, 10, 8, 10, 10, 8, 8, 8, 10, 9]\n",
      "[13, 13, 11, 13, 13, 12, 11, 12, 12, 12, 11, 11, 13, 13, 12, 11, 12, 12, 13, 13, 11, 11, 12, 11]\n",
      "[14, 14, 15, 14, 14, 15, 15, 15, 14, 15, 14, 14, 15, 14, 15, 15]\n",
      "[16, 16, 16, 16, 17, 17, 17, 17, 17, 17, 16, 16, 16, 17, 16, 17]\n",
      "[18, 19, 18, 18, 19, 19, 18, 19, 19, 18, 18, 18, 19, 19, 19, 18]\n",
      "[1, 0, 0, 0, 1, 1, 0, 1, 1, 1, 1, 0, 0, 0, 1, 0]\n",
      "[2, 3, 4, 3, 4, 4, 4, 3, 2, 2, 3, 2, 4, 2, 3, 3, 2, 3, 3, 4, 4, 4, 2, 2]\n",
      "[6, 7, 5, 6, 7, 7, 6, 6, 5, 5, 7, 5, 6, 6, 5, 6, 5, 7, 7, 5, 7, 6, 5, 7]\n",
      "[10, 8, 9, 10, 9, 8, 8, 10, 9, 9, 8, 10, 9, 10, 9, 10, 8, 8, 10, 9, 8, 8, 9, 10]\n",
      "[12, 11, 12, 11, 11, 13, 13, 12, 11, 12, 13, 13, 12, 13, 12, 11, 13, 11, 11, 12, 11, 13, 12, 13]\n",
      "[15, 14, 15, 15, 14, 14, 15, 14, 15, 15, 14, 14, 15, 14, 15, 14]\n",
      "[17, 16, 17, 16, 17, 16, 17, 16, 16, 17, 17, 16, 16, 17, 17, 16]\n",
      "[18, 19, 19, 18, 19, 18, 19, 18, 19, 18, 18, 18, 19, 19, 18, 19]\n",
      "[1, 0, 0, 0, 1, 1, 1, 0, 1, 0, 0, 1, 0, 1, 1, 0]\n",
      "[2, 3, 3, 4, 3, 2, 3, 4, 2, 2, 4, 4, 4, 4, 3, 4, 3, 3, 4, 2, 3, 2, 2, 2]\n",
      "[7, 6, 6, 5, 6, 5, 7, 7, 6, 7, 5, 5, 6, 7, 6, 6, 7, 7, 6, 7, 5, 5, 5, 5]\n",
      "[10, 10, 8, 9, 8, 10, 9, 8, 8, 10, 9, 9, 8, 9, 10, 10, 8, 10, 9, 8, 9, 10, 8, 9]\n",
      "[11, 12, 11, 11, 13, 13, 12, 13, 12, 13, 11, 12, 13, 11, 11, 12, 12, 11, 12, 13, 13, 11, 12, 13]\n",
      "[15, 14, 14, 15, 15, 14, 15, 14, 15, 15, 14, 15, 14, 15, 14, 14]\n",
      "[16, 16, 17, 16, 16, 17, 17, 17, 16, 17, 17, 17, 16, 17, 16, 16]\n",
      "[18, 18, 19, 18, 19, 19, 19, 18, 19, 18, 19, 18, 19, 19, 18, 18]\n",
      "[0, 0, 1, 1, 0, 0, 1, 1, 0, 0, 1, 0, 1, 0, 1, 1]\n",
      "[2, 4, 4, 3, 2, 4, 3, 2, 3, 2, 3, 4, 3, 4, 4, 2, 2, 2, 3, 3, 2, 4, 3, 4]\n",
      "[6, 7, 6, 7, 5, 7, 6, 6, 7, 5, 5, 5, 5, 6, 6, 5, 5, 7, 7, 6, 7, 6, 5, 7]\n",
      "[9, 10, 10, 8, 10, 8, 8, 9, 10, 9, 8, 9, 9, 10, 10, 9, 8, 8, 10, 8, 8, 9, 10, 9]\n",
      "[11, 13, 12, 11, 13, 13, 12, 12, 11, 12, 11, 13, 12, 11, 13, 11, 11, 13, 12, 13, 13, 12, 12, 11]\n",
      "[14, 15, 14, 14, 14, 15, 15, 15, 14, 15, 14, 14, 15, 15, 14, 15]\n",
      "[16, 17, 17, 17, 16, 16, 16, 17, 17, 16, 17, 16, 16, 17, 17, 16]\n",
      "[18, 19, 19, 18, 19, 18, 18, 19, 19, 19, 19, 19, 18, 18, 18, 18]\n",
      "[1, 0, 1, 1, 0, 1, 0, 0, 1, 0, 1, 0, 0, 0, 1, 1]\n",
      "[3, 2, 3, 3, 3, 4, 2, 2, 4, 4, 2, 4, 3, 3, 2, 4, 3, 4, 4, 2, 3, 2, 2, 4]\n",
      "[5, 5, 7, 6, 6, 7, 6, 5, 6, 5, 7, 7, 5, 5, 5, 6, 6, 7, 7, 6, 5, 7, 7, 6]\n",
      "[8, 8, 9, 8, 10, 8, 9, 9, 9, 10, 10, 10, 9, 8, 9, 8, 9, 10, 8, 9, 10, 8, 10, 10]\n",
      "[13, 11, 12, 11, 12, 13, 11, 13, 12, 11, 12, 13, 11, 11, 11, 12, 13, 13, 12, 13, 12, 12, 11, 13]\n",
      "[15, 15, 14, 15, 14, 15, 14, 14, 14, 15, 15, 14, 15, 14, 15, 14]\n",
      "[16, 17, 16, 17, 16, 17, 16, 17, 17, 16, 17, 16, 17, 16, 16, 17]\n",
      "[19, 18, 19, 19, 18, 19, 18, 18, 19, 18, 19, 19, 18, 18, 19, 18]\n",
      "[1, 0, 0, 1, 1, 1, 0, 0, 1, 0, 0, 1, 0, 1, 1, 0]\n",
      "[3, 2, 4, 3, 2, 4, 2, 3, 4, 4, 3, 2, 2, 2, 4, 4, 2, 4, 3, 3, 2, 4, 3, 3]\n",
      "[6, 5, 5, 7, 6, 5, 7, 6, 5, 7, 6, 7, 5, 5, 5, 6, 7, 6, 7, 6, 5, 7, 6, 7]\n",
      "[10, 10, 10, 9, 9, 8, 8, 8, 10, 9, 9, 8, 9, 8, 8, 9, 8, 10, 10, 8, 10, 9, 9, 10]\n",
      "[11, 11, 13, 11, 11, 12, 13, 12, 12, 13, 13, 12, 11, 13, 13, 11, 12, 12, 13, 13, 11, 11, 12, 12]\n",
      "[14, 14, 14, 15, 15, 14, 15, 15, 14, 15, 15, 14, 15, 14, 15, 14]\n",
      "[17, 16, 16, 17, 17, 17, 16, 16, 17, 16, 16, 16, 17, 17, 17, 16]\n",
      "[18, 19, 18, 18, 19, 19, 19, 18, 19, 19, 18, 19, 19, 18, 18, 18]\n",
      "[1, 0, 1, 0, 1, 1, 0, 0, 1, 0, 1, 0, 1, 0, 0, 1]\n",
      "[3, 2, 4, 3, 2, 4, 3, 4, 2, 2, 4, 3, 4, 3, 3, 4, 3, 3, 2, 4, 4, 2, 2, 2]\n",
      "[5, 7, 5, 7, 7, 7, 6, 5, 5, 6, 6, 6, 7, 7, 5, 6, 7, 5, 7, 6, 6, 5, 6, 5]\n",
      "[9, 9, 10, 8, 10, 9, 10, 10, 9, 8, 8, 8, 10, 9, 10, 8, 8, 10, 9, 9, 8, 8, 9, 10]\n",
      "[11, 13, 11, 13, 12, 13, 12, 12, 12, 11, 11, 13, 12, 11, 11, 11, 13, 13, 13, 12, 11, 12, 12, 13]\n",
      "[15, 15, 14, 14, 15, 14, 14, 15, 15, 14, 15, 15, 14, 14, 14, 15]\n",
      "[17, 16, 16, 17, 17, 16, 16, 17, 16, 16, 17, 17, 16, 17, 16, 17]\n",
      "[19, 19, 19, 18, 18, 18, 18, 19, 18, 18, 18, 19, 19, 19, 19, 18]\n",
      "[1, 1, 0, 0, 0, 1, 1, 0, 1, 1, 1, 0, 1, 0, 0, 0]\n",
      "[2, 4, 2, 3, 3, 2, 4, 4, 2, 3, 4, 3, 4, 2, 4, 3, 2, 3, 3, 3, 2, 2, 4, 4]\n",
      "[5, 7, 6, 7, 6, 5, 5, 5, 7, 6, 6, 7, 6, 7, 6, 5, 7, 6, 5, 5, 7, 5, 7, 6]\n",
      "[8, 8, 9, 9, 8, 9, 9, 10, 10, 10, 10, 8, 9, 10, 8, 8, 9, 10, 8, 10, 10, 9, 8, 9]\n",
      "[13, 12, 11, 12, 13, 11, 12, 11, 13, 11, 12, 13, 11, 11, 11, 13, 11, 13, 12, 13, 13, 12, 12, 12]\n",
      "[15, 14, 15, 15, 14, 14, 15, 14, 14, 14, 15, 14, 15, 15, 14, 15]\n",
      "[17, 17, 16, 17, 17, 16, 16, 16, 17, 17, 17, 16, 16, 16, 17, 16]\n",
      "[18, 19, 18, 19, 18, 19, 19, 18, 18, 19, 19, 19, 19, 18, 18, 18]\n",
      "[0, 0, 1, 1, 1, 0, 0, 1, 1, 0, 0, 1, 0, 1, 0, 1]\n",
      "[4, 2, 3, 2, 3, 4, 4, 2, 2, 4, 3, 3, 2, 2, 4, 4, 4, 3, 3, 2, 2, 3, 4, 3]\n",
      "[7, 5, 7, 6, 6, 6, 5, 7, 5, 6, 5, 7, 5, 6, 7, 6, 7, 6, 5, 5, 5, 7, 7, 6]\n",
      "[9, 10, 8, 10, 9, 8, 10, 9, 9, 10, 8, 8, 9, 8, 10, 10, 9, 8, 10, 10, 9, 8, 9, 8]\n",
      "[11, 11, 13, 11, 13, 12, 12, 12, 11, 13, 12, 13, 11, 13, 11, 12, 12, 13, 11, 12, 12, 13, 13, 11]\n",
      "[14, 15, 15, 14, 15, 15, 14, 14, 15, 14, 14, 14, 15, 14, 15, 15]\n",
      "[16, 16, 17, 17, 16, 16, 17, 17, 17, 16, 17, 16, 17, 17, 16, 16]\n",
      "[18, 18, 19, 19, 19, 19, 18, 18, 18, 19, 19, 18, 18, 19, 19, 18]\n"
     ]
    }
   ],
   "source": [
    "from samplers.FewShotValidationEpisodeBatchSampler import FewShotValidationEpisodeBatchSampler\n",
    "from samplers.FewShotValidationEpisodeSampler import FewShotValidationEpisodeSampler\n",
    "from validation_datasets.ValidationDataset import ValidationDataset\n",
    "import torch.utils.data as data\n",
    "\n",
    "ds = ValidationDataset()\n",
    "\n",
    "val_protomaml_sampler = FewShotValidationEpisodeBatchSampler(ds, kShot=4)\n",
    "val_protomaml_loader = data.DataLoader(\n",
    "    ds, batch_sampler=val_protomaml_sampler, collate_fn=val_protomaml_sampler.getCollateFunction(), num_workers=1\n",
    ")\n",
    "\n",
    "for i in range(1):\n",
    "    batch = next(iter(val_protomaml_loader))\n",
    "    for episode_i in range(len(batch[0])):\n",
    "        data, labels = batch[0][episode_i], batch[1][episode_i]\n",
    "        supportSet, supportLabels = data[0:len(data)//2], labels[0:len(data)//2] \n",
    "#         print(supportLabels)\n",
    "        print(labels)"
   ]
  },
  {
   "cell_type": "code",
   "execution_count": 12,
   "id": "8ef372a5",
   "metadata": {
    "scrolled": false
   },
   "outputs": [],
   "source": [
    "from training.models.ProtoFOMAML import ProtoFOMAML\n",
    "\n",
    "# pfomaml = ProtoFOMAML(outerLR=5e-4, innerLR=1e-3, outputLR=1e-2, steps=5, batchSize=16, warmupSteps=0)\n",
    "# pfomaml.validation_step(next(iter(val_protomaml_loader)), 0)"
   ]
  },
  {
   "cell_type": "code",
   "execution_count": 13,
   "id": "8a0cb485",
   "metadata": {
    "scrolled": false
   },
   "outputs": [
    {
     "ename": "MisconfigurationException",
     "evalue": "No supported gpu backend found!",
     "output_type": "error",
     "traceback": [
      "\u001b[0;31m---------------------------------------------------------------------------\u001b[0m",
      "\u001b[0;31mMisconfigurationException\u001b[0m                 Traceback (most recent call last)",
      "Cell \u001b[0;32mIn[13], line 3\u001b[0m\n\u001b[1;32m      1\u001b[0m \u001b[38;5;28;01mfrom\u001b[39;00m \u001b[38;5;21;01mtraining\u001b[39;00m\u001b[38;5;21;01m.\u001b[39;00m\u001b[38;5;21;01mtrainer\u001b[39;00m \u001b[38;5;28;01mimport\u001b[39;00m train_model\n\u001b[0;32m----> 3\u001b[0m protomaml_model \u001b[38;5;241m=\u001b[39m \u001b[43mtrain_model\u001b[49m\u001b[43m(\u001b[49m\n\u001b[1;32m      4\u001b[0m \u001b[43m    \u001b[49m\u001b[43mProtoFOMAML\u001b[49m\u001b[43m,\u001b[49m\n\u001b[1;32m      5\u001b[0m \u001b[43m    \u001b[49m\u001b[43mtrain_loader\u001b[49m\u001b[38;5;241;43m=\u001b[39;49m\u001b[43mtrain_protomaml_loader\u001b[49m\u001b[43m,\u001b[49m\n\u001b[1;32m      6\u001b[0m \u001b[43m    \u001b[49m\u001b[43mval_loader\u001b[49m\u001b[38;5;241;43m=\u001b[39;49m\u001b[43mval_protomaml_loader\u001b[49m\u001b[43m,\u001b[49m\n\u001b[1;32m      7\u001b[0m \u001b[43m    \u001b[49m\u001b[43mouterLR\u001b[49m\u001b[38;5;241;43m=\u001b[39;49m\u001b[38;5;241;43m5e-4\u001b[39;49m\u001b[43m,\u001b[49m\u001b[43m \u001b[49m\u001b[43minnerLR\u001b[49m\u001b[38;5;241;43m=\u001b[39;49m\u001b[38;5;241;43m1e-3\u001b[39;49m\u001b[43m,\u001b[49m\u001b[43m \u001b[49m\u001b[43moutputLR\u001b[49m\u001b[38;5;241;43m=\u001b[39;49m\u001b[38;5;241;43m1e-2\u001b[39;49m\u001b[43m,\u001b[49m\u001b[43m \u001b[49m\u001b[43msteps\u001b[49m\u001b[38;5;241;43m=\u001b[39;49m\u001b[38;5;241;43m5\u001b[39;49m\u001b[43m,\u001b[49m\u001b[43m \u001b[49m\u001b[43mbatchSize\u001b[49m\u001b[38;5;241;43m=\u001b[39;49m\u001b[38;5;241;43m4\u001b[39;49m\u001b[43m,\u001b[49m\u001b[43m \u001b[49m\u001b[43mwarmupSteps\u001b[49m\u001b[38;5;241;43m=\u001b[39;49m\u001b[38;5;241;43m0\u001b[39;49m\n\u001b[1;32m      8\u001b[0m \u001b[43m)\u001b[49m\n",
      "File \u001b[0;32m~/Documents/meta-learned-lines/training/trainer.py:15\u001b[0m, in \u001b[0;36mtrain_model\u001b[0;34m(modelType, train_loader, val_loader, seed, **args)\u001b[0m\n\u001b[1;32m     13\u001b[0m \u001b[38;5;28;01mdef\u001b[39;00m \u001b[38;5;21mtrain_model\u001b[39m(modelType, train_loader, val_loader, seed\u001b[38;5;241m=\u001b[39m\u001b[38;5;241m42\u001b[39m, \u001b[38;5;241m*\u001b[39m\u001b[38;5;241m*\u001b[39margs):\n\u001b[1;32m     14\u001b[0m     torch\u001b[38;5;241m.\u001b[39mset_float32_matmul_precision(\u001b[38;5;124m'\u001b[39m\u001b[38;5;124mmedium\u001b[39m\u001b[38;5;124m'\u001b[39m)\n\u001b[0;32m---> 15\u001b[0m     trainer \u001b[38;5;241m=\u001b[39m \u001b[43mpl\u001b[49m\u001b[38;5;241;43m.\u001b[39;49m\u001b[43mTrainer\u001b[49m\u001b[43m(\u001b[49m\n\u001b[1;32m     16\u001b[0m \u001b[43m        \u001b[49m\u001b[43mdefault_root_dir\u001b[49m\u001b[38;5;241;43m=\u001b[39;49m\u001b[43mos\u001b[49m\u001b[38;5;241;43m.\u001b[39;49m\u001b[43mpath\u001b[49m\u001b[38;5;241;43m.\u001b[39;49m\u001b[43mjoin\u001b[49m\u001b[43m(\u001b[49m\u001b[43mMODEL_PATH\u001b[49m\u001b[43m,\u001b[49m\u001b[43m \u001b[49m\u001b[43mmodelType\u001b[49m\u001b[38;5;241;43m.\u001b[39;49m\u001b[38;5;18;43m__name__\u001b[39;49m\u001b[43m)\u001b[49m\u001b[43m,\u001b[49m\n\u001b[1;32m     17\u001b[0m \u001b[43m        \u001b[49m\u001b[43maccelerator\u001b[49m\u001b[38;5;241;43m=\u001b[39;49m\u001b[38;5;124;43m\"\u001b[39;49m\u001b[38;5;124;43mgpu\u001b[39;49m\u001b[38;5;124;43m\"\u001b[39;49m\u001b[43m,\u001b[49m\n\u001b[1;32m     18\u001b[0m \u001b[43m        \u001b[49m\u001b[43mdevices\u001b[49m\u001b[38;5;241;43m=\u001b[39;49m\u001b[38;5;241;43m1\u001b[39;49m\u001b[43m,\u001b[49m\n\u001b[1;32m     19\u001b[0m \u001b[43m        \u001b[49m\u001b[43mmax_epochs\u001b[49m\u001b[38;5;241;43m=\u001b[39;49m\u001b[38;5;241;43m200\u001b[39;49m\u001b[43m,\u001b[49m\n\u001b[1;32m     20\u001b[0m \u001b[43m        \u001b[49m\u001b[43mcheck_val_every_n_epoch\u001b[49m\u001b[38;5;241;43m=\u001b[39;49m\u001b[38;5;241;43m10\u001b[39;49m\u001b[43m,\u001b[49m\n\u001b[1;32m     21\u001b[0m \u001b[43m        \u001b[49m\u001b[43mcallbacks\u001b[49m\u001b[38;5;241;43m=\u001b[39;49m\u001b[43m[\u001b[49m\n\u001b[1;32m     22\u001b[0m \u001b[43m            \u001b[49m\u001b[43mModelCheckpoint\u001b[49m\u001b[43m(\u001b[49m\u001b[43msave_weights_only\u001b[49m\u001b[38;5;241;43m=\u001b[39;49m\u001b[38;5;28;43;01mTrue\u001b[39;49;00m\u001b[43m,\u001b[49m\u001b[43m \u001b[49m\u001b[43mmode\u001b[49m\u001b[38;5;241;43m=\u001b[39;49m\u001b[38;5;124;43m\"\u001b[39;49m\u001b[38;5;124;43mmax\u001b[39;49m\u001b[38;5;124;43m\"\u001b[39;49m\u001b[43m,\u001b[49m\u001b[43m \u001b[49m\u001b[43mmonitor\u001b[49m\u001b[38;5;241;43m=\u001b[39;49m\u001b[38;5;124;43m\"\u001b[39;49m\u001b[38;5;124;43mouter_loop_validation_accuracy\u001b[39;49m\u001b[38;5;124;43m\"\u001b[39;49m\u001b[43m)\u001b[49m\u001b[43m,\u001b[49m\u001b[43m \u001b[49m\u001b[43mLearningRateMonitor\u001b[49m\u001b[43m(\u001b[49m\u001b[38;5;124;43m\"\u001b[39;49m\u001b[38;5;124;43mepoch\u001b[39;49m\u001b[38;5;124;43m\"\u001b[39;49m\u001b[43m)\u001b[49m\u001b[43m,\u001b[49m\n\u001b[1;32m     23\u001b[0m \u001b[43m            \u001b[49m\u001b[43mEarlyStopping\u001b[49m\u001b[43m(\u001b[49m\u001b[43mmonitor\u001b[49m\u001b[38;5;241;43m=\u001b[39;49m\u001b[38;5;124;43m\"\u001b[39;49m\u001b[38;5;124;43mouter_loop_validation_accuracy\u001b[39;49m\u001b[38;5;124;43m\"\u001b[39;49m\u001b[43m,\u001b[49m\u001b[43m \u001b[49m\u001b[43mmin_delta\u001b[49m\u001b[38;5;241;43m=\u001b[39;49m\u001b[38;5;241;43m0.01\u001b[39;49m\u001b[43m,\u001b[49m\u001b[43m \u001b[49m\u001b[43mpatience\u001b[49m\u001b[38;5;241;43m=\u001b[39;49m\u001b[38;5;241;43m5\u001b[39;49m\u001b[43m,\u001b[49m\u001b[43m \u001b[49m\u001b[43mverbose\u001b[49m\u001b[38;5;241;43m=\u001b[39;49m\u001b[38;5;28;43;01mFalse\u001b[39;49;00m\u001b[43m,\u001b[49m\u001b[43m \u001b[49m\u001b[43mmode\u001b[49m\u001b[38;5;241;43m=\u001b[39;49m\u001b[38;5;124;43m\"\u001b[39;49m\u001b[38;5;124;43mmax\u001b[39;49m\u001b[38;5;124;43m\"\u001b[39;49m\u001b[43m)\u001b[49m\n\u001b[1;32m     24\u001b[0m \u001b[43m        \u001b[49m\u001b[43m]\u001b[49m\u001b[43m,\u001b[49m\n\u001b[1;32m     25\u001b[0m \u001b[43m        \u001b[49m\u001b[43menable_progress_bar\u001b[49m\u001b[38;5;241;43m=\u001b[39;49m\u001b[38;5;28;43;01mFalse\u001b[39;49;00m\u001b[43m,\u001b[49m\n\u001b[1;32m     26\u001b[0m \u001b[43m    \u001b[49m\u001b[43m)\u001b[49m\n\u001b[1;32m     27\u001b[0m     trainer\u001b[38;5;241m.\u001b[39mlogger\u001b[38;5;241m.\u001b[39m_default_hp_metric \u001b[38;5;241m=\u001b[39m \u001b[38;5;28;01mNone\u001b[39;00m\n\u001b[1;32m     29\u001b[0m     \u001b[38;5;66;03m# if a model exists, use that instead of training a new one\u001b[39;00m\n",
      "File \u001b[0;32m~/miniconda3/envs/meta-learned-lines/lib/python3.10/site-packages/pytorch_lightning/utilities/argparse.py:69\u001b[0m, in \u001b[0;36m_defaults_from_env_vars.<locals>.insert_env_defaults\u001b[0;34m(self, *args, **kwargs)\u001b[0m\n\u001b[1;32m     66\u001b[0m kwargs \u001b[38;5;241m=\u001b[39m \u001b[38;5;28mdict\u001b[39m(\u001b[38;5;28mlist\u001b[39m(env_variables\u001b[38;5;241m.\u001b[39mitems()) \u001b[38;5;241m+\u001b[39m \u001b[38;5;28mlist\u001b[39m(kwargs\u001b[38;5;241m.\u001b[39mitems()))\n\u001b[1;32m     68\u001b[0m \u001b[38;5;66;03m# all args were already moved to kwargs\u001b[39;00m\n\u001b[0;32m---> 69\u001b[0m \u001b[38;5;28;01mreturn\u001b[39;00m \u001b[43mfn\u001b[49m\u001b[43m(\u001b[49m\u001b[38;5;28;43mself\u001b[39;49m\u001b[43m,\u001b[49m\u001b[43m \u001b[49m\u001b[38;5;241;43m*\u001b[39;49m\u001b[38;5;241;43m*\u001b[39;49m\u001b[43mkwargs\u001b[49m\u001b[43m)\u001b[49m\n",
      "File \u001b[0;32m~/miniconda3/envs/meta-learned-lines/lib/python3.10/site-packages/pytorch_lightning/trainer/trainer.py:393\u001b[0m, in \u001b[0;36mTrainer.__init__\u001b[0;34m(self, accelerator, strategy, devices, num_nodes, precision, logger, callbacks, fast_dev_run, max_epochs, min_epochs, max_steps, min_steps, max_time, limit_train_batches, limit_val_batches, limit_test_batches, limit_predict_batches, overfit_batches, val_check_interval, check_val_every_n_epoch, num_sanity_val_steps, log_every_n_steps, enable_checkpointing, enable_progress_bar, enable_model_summary, accumulate_grad_batches, gradient_clip_val, gradient_clip_algorithm, deterministic, benchmark, inference_mode, use_distributed_sampler, profiler, detect_anomaly, barebones, plugins, sync_batchnorm, reload_dataloaders_every_n_epochs, default_root_dir)\u001b[0m\n\u001b[1;32m    390\u001b[0m \u001b[38;5;66;03m# init connectors\u001b[39;00m\n\u001b[1;32m    391\u001b[0m \u001b[38;5;28mself\u001b[39m\u001b[38;5;241m.\u001b[39m_data_connector \u001b[38;5;241m=\u001b[39m _DataConnector(\u001b[38;5;28mself\u001b[39m)\n\u001b[0;32m--> 393\u001b[0m \u001b[38;5;28mself\u001b[39m\u001b[38;5;241m.\u001b[39m_accelerator_connector \u001b[38;5;241m=\u001b[39m \u001b[43m_AcceleratorConnector\u001b[49m\u001b[43m(\u001b[49m\n\u001b[1;32m    394\u001b[0m \u001b[43m    \u001b[49m\u001b[43mdevices\u001b[49m\u001b[38;5;241;43m=\u001b[39;49m\u001b[43mdevices\u001b[49m\u001b[43m,\u001b[49m\n\u001b[1;32m    395\u001b[0m \u001b[43m    \u001b[49m\u001b[43maccelerator\u001b[49m\u001b[38;5;241;43m=\u001b[39;49m\u001b[43maccelerator\u001b[49m\u001b[43m,\u001b[49m\n\u001b[1;32m    396\u001b[0m \u001b[43m    \u001b[49m\u001b[43mstrategy\u001b[49m\u001b[38;5;241;43m=\u001b[39;49m\u001b[43mstrategy\u001b[49m\u001b[43m,\u001b[49m\n\u001b[1;32m    397\u001b[0m \u001b[43m    \u001b[49m\u001b[43mnum_nodes\u001b[49m\u001b[38;5;241;43m=\u001b[39;49m\u001b[43mnum_nodes\u001b[49m\u001b[43m,\u001b[49m\n\u001b[1;32m    398\u001b[0m \u001b[43m    \u001b[49m\u001b[43msync_batchnorm\u001b[49m\u001b[38;5;241;43m=\u001b[39;49m\u001b[43msync_batchnorm\u001b[49m\u001b[43m,\u001b[49m\n\u001b[1;32m    399\u001b[0m \u001b[43m    \u001b[49m\u001b[43mbenchmark\u001b[49m\u001b[38;5;241;43m=\u001b[39;49m\u001b[43mbenchmark\u001b[49m\u001b[43m,\u001b[49m\n\u001b[1;32m    400\u001b[0m \u001b[43m    \u001b[49m\u001b[43muse_distributed_sampler\u001b[49m\u001b[38;5;241;43m=\u001b[39;49m\u001b[43muse_distributed_sampler\u001b[49m\u001b[43m,\u001b[49m\n\u001b[1;32m    401\u001b[0m \u001b[43m    \u001b[49m\u001b[43mdeterministic\u001b[49m\u001b[38;5;241;43m=\u001b[39;49m\u001b[43mdeterministic\u001b[49m\u001b[43m,\u001b[49m\n\u001b[1;32m    402\u001b[0m \u001b[43m    \u001b[49m\u001b[43mprecision\u001b[49m\u001b[38;5;241;43m=\u001b[39;49m\u001b[43mprecision\u001b[49m\u001b[43m,\u001b[49m\n\u001b[1;32m    403\u001b[0m \u001b[43m    \u001b[49m\u001b[43mplugins\u001b[49m\u001b[38;5;241;43m=\u001b[39;49m\u001b[43mplugins\u001b[49m\u001b[43m,\u001b[49m\n\u001b[1;32m    404\u001b[0m \u001b[43m\u001b[49m\u001b[43m)\u001b[49m\n\u001b[1;32m    405\u001b[0m \u001b[38;5;28mself\u001b[39m\u001b[38;5;241m.\u001b[39m_logger_connector \u001b[38;5;241m=\u001b[39m _LoggerConnector(\u001b[38;5;28mself\u001b[39m)\n\u001b[1;32m    406\u001b[0m \u001b[38;5;28mself\u001b[39m\u001b[38;5;241m.\u001b[39m_callback_connector \u001b[38;5;241m=\u001b[39m _CallbackConnector(\u001b[38;5;28mself\u001b[39m)\n",
      "File \u001b[0;32m~/miniconda3/envs/meta-learned-lines/lib/python3.10/site-packages/pytorch_lightning/trainer/connectors/accelerator_connector.py:154\u001b[0m, in \u001b[0;36m_AcceleratorConnector.__init__\u001b[0;34m(self, devices, num_nodes, accelerator, strategy, plugins, precision, sync_batchnorm, benchmark, use_distributed_sampler, deterministic)\u001b[0m\n\u001b[1;32m    152\u001b[0m     \u001b[38;5;28mself\u001b[39m\u001b[38;5;241m.\u001b[39m_accelerator_flag \u001b[38;5;241m=\u001b[39m \u001b[38;5;28mself\u001b[39m\u001b[38;5;241m.\u001b[39m_choose_auto_accelerator()\n\u001b[1;32m    153\u001b[0m \u001b[38;5;28;01melif\u001b[39;00m \u001b[38;5;28mself\u001b[39m\u001b[38;5;241m.\u001b[39m_accelerator_flag \u001b[38;5;241m==\u001b[39m \u001b[38;5;124m\"\u001b[39m\u001b[38;5;124mgpu\u001b[39m\u001b[38;5;124m\"\u001b[39m:\n\u001b[0;32m--> 154\u001b[0m     \u001b[38;5;28mself\u001b[39m\u001b[38;5;241m.\u001b[39m_accelerator_flag \u001b[38;5;241m=\u001b[39m \u001b[38;5;28;43mself\u001b[39;49m\u001b[38;5;241;43m.\u001b[39;49m\u001b[43m_choose_gpu_accelerator_backend\u001b[49m\u001b[43m(\u001b[49m\u001b[43m)\u001b[49m\n\u001b[1;32m    156\u001b[0m \u001b[38;5;28mself\u001b[39m\u001b[38;5;241m.\u001b[39m_check_device_config_and_set_final_flags(devices\u001b[38;5;241m=\u001b[39mdevices, num_nodes\u001b[38;5;241m=\u001b[39mnum_nodes)\n\u001b[1;32m    157\u001b[0m \u001b[38;5;28mself\u001b[39m\u001b[38;5;241m.\u001b[39m_set_parallel_devices_and_init_accelerator()\n",
      "File \u001b[0;32m~/miniconda3/envs/meta-learned-lines/lib/python3.10/site-packages/pytorch_lightning/trainer/connectors/accelerator_connector.py:371\u001b[0m, in \u001b[0;36m_AcceleratorConnector._choose_gpu_accelerator_backend\u001b[0;34m()\u001b[0m\n\u001b[1;32m    369\u001b[0m \u001b[38;5;28;01mif\u001b[39;00m CUDAAccelerator\u001b[38;5;241m.\u001b[39mis_available():\n\u001b[1;32m    370\u001b[0m     \u001b[38;5;28;01mreturn\u001b[39;00m \u001b[38;5;124m\"\u001b[39m\u001b[38;5;124mcuda\u001b[39m\u001b[38;5;124m\"\u001b[39m\n\u001b[0;32m--> 371\u001b[0m \u001b[38;5;28;01mraise\u001b[39;00m MisconfigurationException(\u001b[38;5;124m\"\u001b[39m\u001b[38;5;124mNo supported gpu backend found!\u001b[39m\u001b[38;5;124m\"\u001b[39m)\n",
      "\u001b[0;31mMisconfigurationException\u001b[0m: No supported gpu backend found!"
     ]
    }
   ],
   "source": [
    "from training.trainer import train_model\n",
    "\n",
    "protomaml_model = train_model(\n",
    "    ProtoFOMAML,\n",
    "    train_loader=train_protomaml_loader,\n",
    "    val_loader=val_protomaml_loader,\n",
    "    outerLR=5e-4, innerLR=1e-3, outputLR=1e-2, steps=5, batchSize=4, warmupSteps=0\n",
    ")"
   ]
  },
  {
   "cell_type": "code",
   "execution_count": 3,
   "id": "f104cb02",
   "metadata": {},
   "outputs": [
    {
     "data": {
      "text/plain": [
       "'/home/aksingh/Documents/meta-learned-lines'"
      ]
     },
     "execution_count": 3,
     "metadata": {},
     "output_type": "execute_result"
    }
   ],
   "source": [
    "import os\n",
    "\n",
    "os.path.abspath(os.getcwd())"
   ]
  },
  {
   "cell_type": "code",
   "execution_count": null,
   "id": "aa1e85da",
   "metadata": {},
   "outputs": [],
   "source": []
  }
 ],
 "metadata": {
  "kernelspec": {
   "display_name": "Python 3 (ipykernel)",
   "language": "python",
   "name": "python3"
  },
  "language_info": {
   "codemirror_mode": {
    "name": "ipython",
    "version": 3
   },
   "file_extension": ".py",
   "mimetype": "text/x-python",
   "name": "python",
   "nbconvert_exporter": "python",
   "pygments_lexer": "ipython3",
   "version": "3.10.11"
  }
 },
 "nbformat": 4,
 "nbformat_minor": 5
}
