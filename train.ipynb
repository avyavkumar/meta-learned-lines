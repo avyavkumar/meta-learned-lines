{
 "cells": [
  {
   "cell_type": "code",
   "execution_count": 1,
   "id": "efbc045a",
   "metadata": {},
   "outputs": [],
   "source": [
    "# import numpy as np\n",
    "# from lines.Line import Line\n",
    "# from prototypes.models.PrototypeClassifierModels import CLASSIFIER_MODEL_2NN\n",
    "# from training.CrossEntropyTraining import ClassifierTrainerWithCrossEntropyNoGen\n",
    "# from datautils.LEOPARDEncoderUtils import get_labelled_LEOPARD_training_data as get_labelled_training_data\n",
    "# from lines.LineGenerator import LineGenerator\n",
    "# # from evaluation.Evaluator import Evaluator\n",
    "\n",
    "# test_params = {\n",
    "#   'type': 'cross_entropy',\n",
    "#   'encoder': \"bert\",\n",
    "# }\n",
    "\n",
    "# trainer_params = {\n",
    "#   'shuffle': True,\n",
    "#   'num_workers': 0\n",
    "# }\n",
    "\n",
    "# batch_size = {\n",
    "#   4: 4, 8: 8, 16: 12\n",
    "# }\n",
    "\n",
    "# epochs = {\n",
    "#   4: {\n",
    "#     2: 15, 3: 30, 4: 45, 5: 60, 6: 75\n",
    "#   },\n",
    "#   8: {\n",
    "#     2: 30, 3: 40, 4: 50, 5: 70, 6: 100\n",
    "#   },\n",
    "#   16: {\n",
    "#     2: 15, 3: 25, 4: 35, 5: 45, 6: 55\n",
    "#   },\n",
    "# }\n",
    "\n",
    "# learning_rates = {\n",
    "#   4: 5e-3,\n",
    "#   8: 1e-2,\n",
    "#   16: 5e-2\n",
    "# }\n",
    "\n",
    "# training_params = {\n",
    "#   'encoder': \"bert\",\n",
    "#   'epochs': epochs,\n",
    "#   'warmupSteps': 100,\n",
    "#   'reduction': 'none',\n",
    "#   'learning_rate': learning_rates,\n",
    "#   'printValidationPlot': True,\n",
    "#   'printValidationLoss': False\n",
    "# }\n",
    "\n",
    "# for category in [\"rating_dvd\"]:\n",
    "#     training_params['category'] = category\n",
    "#     for episode in range(10):\n",
    "#         training_params['episode'] = episode\n",
    "#         for shot in [4]:\n",
    "#             training_params['shot'] = shot\n",
    "#             trainer_params['batch_size'] = batch_size[shot]\n",
    "#             training_encodings, training_labels, label_keys = get_labelled_training_data(category, shot, episode)\n",
    "            \n",
    "#             if training_encodings.shape[0] == 0:\n",
    "#                 continue\n",
    "            \n",
    "#             training_set = {}\n",
    "#             training_set['encodings'] = training_encodings\n",
    "#             training_set['labels'] = training_labels\n",
    "            \n",
    "#             lineGenerator = LineGenerator(training_set, CLASSIFIER_MODEL_2NN)\n",
    "#             classifierTrainer = ClassifierTrainerWithCrossEntropyNoGen(lineGenerator, trainer_params, training_params, label_keys)\n",
    "#             classifierTrainer.trainPrototypes(training_params, trainer_params, training_set)\n",
    "#             lines = classifierTrainer.getLines()\n",
    "            \n",
    "# #             evaluator = Evaluator(label_keys, test_params)\n",
    "# #             evaluator.evaluate(category, shot, episode)"
   ]
  },
  {
   "cell_type": "code",
   "execution_count": 2,
   "id": "79b5482b",
   "metadata": {
    "scrolled": true
   },
   "outputs": [
    {
     "name": "stderr",
     "output_type": "stream",
     "text": [
      "/home/aksingh/miniconda3/envs/meta-learned-lines/lib/python3.10/site-packages/tqdm/auto.py:21: TqdmWarning: IProgress not found. Please update jupyter and ipywidgets. See https://ipywidgets.readthedocs.io/en/stable/user_install.html\n",
      "  from .autonotebook import tqdm as notebook_tqdm\n",
      "Found cached dataset glue (/home/aksingh/.cache/huggingface/datasets/glue/cola/1.0.0/dacbe3125aa31d7f70367a07a8a9e72a5a0bfeb5fc42e75c9db75b96da6053ad)\n",
      "100%|████████████████████████████████████████████████████████████████████████████████████████████████████████████████████████████████████████████████████████████████████████████████| 3/3 [00:00<00:00, 1332.65it/s]\n"
     ]
    },
    {
     "name": "stdout",
     "output_type": "stream",
     "text": [
      "DatasetDict({\n",
      "    train: Dataset({\n",
      "        features: ['sentence', 'label', 'idx'],\n",
      "        num_rows: 8551\n",
      "    })\n",
      "    validation: Dataset({\n",
      "        features: ['sentence', 'label', 'idx'],\n",
      "        num_rows: 1043\n",
      "    })\n",
      "    test: Dataset({\n",
      "        features: ['sentence', 'label', 'idx'],\n",
      "        num_rows: 1063\n",
      "    })\n",
      "})\n"
     ]
    },
    {
     "name": "stderr",
     "output_type": "stream",
     "text": [
      "Found cached dataset glue (/home/aksingh/.cache/huggingface/datasets/glue/sst2/1.0.0/dacbe3125aa31d7f70367a07a8a9e72a5a0bfeb5fc42e75c9db75b96da6053ad)\n",
      "100%|████████████████████████████████████████████████████████████████████████████████████████████████████████████████████████████████████████████████████████████████████████████████| 3/3 [00:00<00:00, 1254.90it/s]"
     ]
    },
    {
     "name": "stdout",
     "output_type": "stream",
     "text": [
      "DatasetDict({\n",
      "    train: Dataset({\n",
      "        features: ['sentence', 'label', 'idx'],\n",
      "        num_rows: 67349\n",
      "    })\n",
      "    validation: Dataset({\n",
      "        features: ['sentence', 'label', 'idx'],\n",
      "        num_rows: 872\n",
      "    })\n",
      "    test: Dataset({\n",
      "        features: ['sentence', 'label', 'idx'],\n",
      "        num_rows: 1821\n",
      "    })\n",
      "})\n"
     ]
    },
    {
     "name": "stderr",
     "output_type": "stream",
     "text": [
      "\n"
     ]
    }
   ],
   "source": [
    "from datasets import load_dataset\n",
    "from training_datasets.GLUEDataset import GLUEDataset\n",
    "import learn2learn as l2l\n",
    "\n",
    "cola = load_dataset('glue','cola')\n",
    "print(cola)\n",
    "sst2 = load_dataset('glue','sst2')\n",
    "print(sst2)\n",
    "pt_cola = GLUEDataset([cola, sst2], 'train')\n",
    "\n",
    "dataset_meta = l2l.data.MetaDataset(pt_cola)\n"
   ]
  },
  {
   "cell_type": "code",
   "execution_count": 3,
   "id": "9b484c2c",
   "metadata": {},
   "outputs": [
    {
     "data": {
      "text/plain": [
       "4"
      ]
     },
     "execution_count": 3,
     "metadata": {},
     "output_type": "execute_result"
    }
   ],
   "source": [
    "len(set(dataset_meta[:][1]))"
   ]
  },
  {
   "cell_type": "code",
   "execution_count": 5,
   "id": "eb229056",
   "metadata": {},
   "outputs": [],
   "source": [
    "from training_datasets.GLUEMetaDataset import GLUEMetaDataset\n",
    "\n",
    "gm_ds = GLUEMetaDataset(pt_cola, k=3, numTasks=5000)\n",
    "task = gm_ds.getTask()"
   ]
  },
  {
   "cell_type": "code",
   "execution_count": 13,
   "id": "daa85fdd",
   "metadata": {},
   "outputs": [
    {
     "data": {
      "text/plain": [
       "tensor(3)"
      ]
     },
     "execution_count": 13,
     "metadata": {},
     "output_type": "execute_result"
    }
   ],
   "source": [
    "task[1][0]"
   ]
  },
  {
   "cell_type": "code",
   "execution_count": null,
   "id": "47fae603",
   "metadata": {},
   "outputs": [],
   "source": []
  }
 ],
 "metadata": {
  "kernelspec": {
   "display_name": "Python 3 (ipykernel)",
   "language": "python",
   "name": "python3"
  },
  "language_info": {
   "codemirror_mode": {
    "name": "ipython",
    "version": 3
   },
   "file_extension": ".py",
   "mimetype": "text/x-python",
   "name": "python",
   "nbconvert_exporter": "python",
   "pygments_lexer": "ipython3",
   "version": "3.10.11"
  }
 },
 "nbformat": 4,
 "nbformat_minor": 5
}
